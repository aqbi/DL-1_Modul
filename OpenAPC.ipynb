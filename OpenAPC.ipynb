{
 "cells": [
  {
   "cell_type": "code",
   "execution_count": 2,
   "id": "8835ef65",
   "metadata": {},
   "outputs": [],
   "source": [
    "import urllib.request\n",
    "import pandas as pd"
   ]
  },
  {
   "cell_type": "code",
   "execution_count": null,
   "id": "c7345d07",
   "metadata": {},
   "outputs": [],
   "source": []
  },
  {
   "cell_type": "code",
   "execution_count": null,
   "id": "dcdb7779",
   "metadata": {},
   "outputs": [],
   "source": []
  },
  {
   "cell_type": "code",
   "execution_count": 12,
   "id": "cce168de",
   "metadata": {},
   "outputs": [],
   "source": [
    "openapc_url = \"https://raw.githubusercontent.com/OpenAPC/openapc-de/master/data/fuberlin/APC_FU_Berlin_2015.csv\"\n",
    "apc_file = \"openapc.csv\""
   ]
  },
  {
   "cell_type": "code",
   "execution_count": 13,
   "id": "133cc783",
   "metadata": {},
   "outputs": [
    {
     "data": {
      "text/plain": [
       "('openapc.csv', <http.client.HTTPMessage at 0x7f6088deba30>)"
      ]
     },
     "execution_count": 13,
     "metadata": {},
     "output_type": "execute_result"
    }
   ],
   "source": [
    "urllib.request.urlretrieve(openapc_url, apc_file)"
   ]
  },
  {
   "cell_type": "code",
   "execution_count": 14,
   "id": "96dd4e1f",
   "metadata": {},
   "outputs": [],
   "source": [
    "apcs = pd.read_csv(apc_file)"
   ]
  },
  {
   "cell_type": "code",
   "execution_count": 15,
   "id": "76d44bb6",
   "metadata": {},
   "outputs": [
    {
     "data": {
      "text/html": [
       "<div>\n",
       "<style scoped>\n",
       "    .dataframe tbody tr th:only-of-type {\n",
       "        vertical-align: middle;\n",
       "    }\n",
       "\n",
       "    .dataframe tbody tr th {\n",
       "        vertical-align: top;\n",
       "    }\n",
       "\n",
       "    .dataframe thead th {\n",
       "        text-align: right;\n",
       "    }\n",
       "</style>\n",
       "<table border=\"1\" class=\"dataframe\">\n",
       "  <thead>\n",
       "    <tr style=\"text-align: right;\">\n",
       "      <th></th>\n",
       "      <th>institution</th>\n",
       "      <th>period</th>\n",
       "      <th>euro</th>\n",
       "      <th>doi</th>\n",
       "      <th>is_hybrid</th>\n",
       "      <th>publisher</th>\n",
       "      <th>journal_full_title</th>\n",
       "      <th>issn</th>\n",
       "      <th>issn_print</th>\n",
       "      <th>issn_electronic</th>\n",
       "      <th>license_ref</th>\n",
       "      <th>indexed_in_crossref</th>\n",
       "      <th>pmid</th>\n",
       "      <th>pmcid</th>\n",
       "      <th>ut</th>\n",
       "      <th>url</th>\n",
       "      <th>doaj</th>\n",
       "    </tr>\n",
       "  </thead>\n",
       "  <tbody>\n",
       "    <tr>\n",
       "      <th>0</th>\n",
       "      <td>FU Berlin</td>\n",
       "      <td>2015</td>\n",
       "      <td>2000.00</td>\n",
       "      <td>10.1038/npjqi.2015.10</td>\n",
       "      <td>False</td>\n",
       "      <td>Springer Nature</td>\n",
       "      <td>npj Quantum Information</td>\n",
       "      <td>2056-6387</td>\n",
       "      <td>NaN</td>\n",
       "      <td>2056-6387</td>\n",
       "      <td>NaN</td>\n",
       "      <td>True</td>\n",
       "      <td>NaN</td>\n",
       "      <td>NaN</td>\n",
       "      <td>NaN</td>\n",
       "      <td>NaN</td>\n",
       "      <td>True</td>\n",
       "    </tr>\n",
       "    <tr>\n",
       "      <th>1</th>\n",
       "      <td>FU Berlin</td>\n",
       "      <td>2015</td>\n",
       "      <td>1503.12</td>\n",
       "      <td>10.1103/PhysRevX.5.041008</td>\n",
       "      <td>False</td>\n",
       "      <td>American Physical Society (APS)</td>\n",
       "      <td>Physical Review X</td>\n",
       "      <td>2160-3308</td>\n",
       "      <td>NaN</td>\n",
       "      <td>2160-3308</td>\n",
       "      <td>http://creativecommons.org/licenses/by/3.0/</td>\n",
       "      <td>True</td>\n",
       "      <td>NaN</td>\n",
       "      <td>NaN</td>\n",
       "      <td>NaN</td>\n",
       "      <td>NaN</td>\n",
       "      <td>True</td>\n",
       "    </tr>\n",
       "    <tr>\n",
       "      <th>2</th>\n",
       "      <td>FU Berlin</td>\n",
       "      <td>2015</td>\n",
       "      <td>2000.00</td>\n",
       "      <td>10.1038/ncomms9498</td>\n",
       "      <td>False</td>\n",
       "      <td>Springer Nature</td>\n",
       "      <td>Nature Communications</td>\n",
       "      <td>2041-1723</td>\n",
       "      <td>NaN</td>\n",
       "      <td>2041-1723</td>\n",
       "      <td>NaN</td>\n",
       "      <td>True</td>\n",
       "      <td>26577800.0</td>\n",
       "      <td>PMC4673657</td>\n",
       "      <td>NaN</td>\n",
       "      <td>NaN</td>\n",
       "      <td>True</td>\n",
       "    </tr>\n",
       "    <tr>\n",
       "      <th>3</th>\n",
       "      <td>FU Berlin</td>\n",
       "      <td>2015</td>\n",
       "      <td>2000.00</td>\n",
       "      <td>10.1371/journal.ppat.1005246</td>\n",
       "      <td>False</td>\n",
       "      <td>Public Library of Science (PLoS)</td>\n",
       "      <td>PLOS Pathogens</td>\n",
       "      <td>1553-7374</td>\n",
       "      <td>NaN</td>\n",
       "      <td>1553-7374</td>\n",
       "      <td>http://creativecommons.org/licenses/by/4.0/</td>\n",
       "      <td>True</td>\n",
       "      <td>26544881.0</td>\n",
       "      <td>PMC4636265</td>\n",
       "      <td>NaN</td>\n",
       "      <td>NaN</td>\n",
       "      <td>True</td>\n",
       "    </tr>\n",
       "    <tr>\n",
       "      <th>4</th>\n",
       "      <td>FU Berlin</td>\n",
       "      <td>2015</td>\n",
       "      <td>1805.00</td>\n",
       "      <td>10.1186/s13099-015-0075-z</td>\n",
       "      <td>False</td>\n",
       "      <td>Springer Nature</td>\n",
       "      <td>Gut Pathogens</td>\n",
       "      <td>1757-4749</td>\n",
       "      <td>NaN</td>\n",
       "      <td>1757-4749</td>\n",
       "      <td>NaN</td>\n",
       "      <td>True</td>\n",
       "      <td>26483849.0</td>\n",
       "      <td>PMC4610047</td>\n",
       "      <td>NaN</td>\n",
       "      <td>NaN</td>\n",
       "      <td>True</td>\n",
       "    </tr>\n",
       "    <tr>\n",
       "      <th>...</th>\n",
       "      <td>...</td>\n",
       "      <td>...</td>\n",
       "      <td>...</td>\n",
       "      <td>...</td>\n",
       "      <td>...</td>\n",
       "      <td>...</td>\n",
       "      <td>...</td>\n",
       "      <td>...</td>\n",
       "      <td>...</td>\n",
       "      <td>...</td>\n",
       "      <td>...</td>\n",
       "      <td>...</td>\n",
       "      <td>...</td>\n",
       "      <td>...</td>\n",
       "      <td>...</td>\n",
       "      <td>...</td>\n",
       "      <td>...</td>\n",
       "    </tr>\n",
       "    <tr>\n",
       "      <th>56</th>\n",
       "      <td>FU Berlin</td>\n",
       "      <td>2015</td>\n",
       "      <td>1731.45</td>\n",
       "      <td>10.1186/s13015-014-0028-y</td>\n",
       "      <td>False</td>\n",
       "      <td>Springer Nature</td>\n",
       "      <td>Algorithms for Molecular Biology</td>\n",
       "      <td>1748-7188</td>\n",
       "      <td>1748-7188</td>\n",
       "      <td>NaN</td>\n",
       "      <td>NaN</td>\n",
       "      <td>True</td>\n",
       "      <td>25649004.0</td>\n",
       "      <td>PMC4302510</td>\n",
       "      <td>NaN</td>\n",
       "      <td>NaN</td>\n",
       "      <td>True</td>\n",
       "    </tr>\n",
       "    <tr>\n",
       "      <th>57</th>\n",
       "      <td>FU Berlin</td>\n",
       "      <td>2015</td>\n",
       "      <td>1600.00</td>\n",
       "      <td>10.3389/fpsyg.2015.00194</td>\n",
       "      <td>False</td>\n",
       "      <td>Frontiers Media SA</td>\n",
       "      <td>Frontiers in Psychology</td>\n",
       "      <td>1664-1078</td>\n",
       "      <td>NaN</td>\n",
       "      <td>1664-1078</td>\n",
       "      <td>NaN</td>\n",
       "      <td>True</td>\n",
       "      <td>25762966.0</td>\n",
       "      <td>PMC4340142</td>\n",
       "      <td>NaN</td>\n",
       "      <td>NaN</td>\n",
       "      <td>True</td>\n",
       "    </tr>\n",
       "    <tr>\n",
       "      <th>58</th>\n",
       "      <td>FU Berlin</td>\n",
       "      <td>2015</td>\n",
       "      <td>219.84</td>\n",
       "      <td>10.3389/fevo.2015.00020</td>\n",
       "      <td>False</td>\n",
       "      <td>Frontiers Media SA</td>\n",
       "      <td>Frontiers in Ecology and Evolution</td>\n",
       "      <td>2296-701X</td>\n",
       "      <td>NaN</td>\n",
       "      <td>2296-701X</td>\n",
       "      <td>NaN</td>\n",
       "      <td>True</td>\n",
       "      <td>NaN</td>\n",
       "      <td>NaN</td>\n",
       "      <td>NaN</td>\n",
       "      <td>NaN</td>\n",
       "      <td>True</td>\n",
       "    </tr>\n",
       "    <tr>\n",
       "      <th>59</th>\n",
       "      <td>FU Berlin</td>\n",
       "      <td>2015</td>\n",
       "      <td>1386.35</td>\n",
       "      <td>10.1038/srep19416</td>\n",
       "      <td>False</td>\n",
       "      <td>Springer Nature</td>\n",
       "      <td>Scientific Reports</td>\n",
       "      <td>2045-2322</td>\n",
       "      <td>NaN</td>\n",
       "      <td>2045-2322</td>\n",
       "      <td>NaN</td>\n",
       "      <td>True</td>\n",
       "      <td>26757825.0</td>\n",
       "      <td>PMC4725832</td>\n",
       "      <td>NaN</td>\n",
       "      <td>NaN</td>\n",
       "      <td>True</td>\n",
       "    </tr>\n",
       "    <tr>\n",
       "      <th>60</th>\n",
       "      <td>FU Berlin</td>\n",
       "      <td>2015</td>\n",
       "      <td>2000.00</td>\n",
       "      <td>10.1155/2015/569512</td>\n",
       "      <td>False</td>\n",
       "      <td>Hindawi Publishing Corporation</td>\n",
       "      <td>Mediators of Inflammation</td>\n",
       "      <td>0962-9351</td>\n",
       "      <td>0962-9351</td>\n",
       "      <td>1466-1861</td>\n",
       "      <td>http://creativecommons.org/licenses/by/4.0/</td>\n",
       "      <td>True</td>\n",
       "      <td>26770019.0</td>\n",
       "      <td>PMC4681803</td>\n",
       "      <td>NaN</td>\n",
       "      <td>NaN</td>\n",
       "      <td>True</td>\n",
       "    </tr>\n",
       "  </tbody>\n",
       "</table>\n",
       "<p>61 rows × 17 columns</p>\n",
       "</div>"
      ],
      "text/plain": [
       "   institution  period     euro                           doi  is_hybrid  \\\n",
       "0    FU Berlin    2015  2000.00         10.1038/npjqi.2015.10      False   \n",
       "1    FU Berlin    2015  1503.12     10.1103/PhysRevX.5.041008      False   \n",
       "2    FU Berlin    2015  2000.00            10.1038/ncomms9498      False   \n",
       "3    FU Berlin    2015  2000.00  10.1371/journal.ppat.1005246      False   \n",
       "4    FU Berlin    2015  1805.00     10.1186/s13099-015-0075-z      False   \n",
       "..         ...     ...      ...                           ...        ...   \n",
       "56   FU Berlin    2015  1731.45     10.1186/s13015-014-0028-y      False   \n",
       "57   FU Berlin    2015  1600.00      10.3389/fpsyg.2015.00194      False   \n",
       "58   FU Berlin    2015   219.84       10.3389/fevo.2015.00020      False   \n",
       "59   FU Berlin    2015  1386.35             10.1038/srep19416      False   \n",
       "60   FU Berlin    2015  2000.00           10.1155/2015/569512      False   \n",
       "\n",
       "                           publisher                  journal_full_title  \\\n",
       "0                    Springer Nature             npj Quantum Information   \n",
       "1    American Physical Society (APS)                   Physical Review X   \n",
       "2                    Springer Nature               Nature Communications   \n",
       "3   Public Library of Science (PLoS)                      PLOS Pathogens   \n",
       "4                    Springer Nature                       Gut Pathogens   \n",
       "..                               ...                                 ...   \n",
       "56                   Springer Nature    Algorithms for Molecular Biology   \n",
       "57                Frontiers Media SA             Frontiers in Psychology   \n",
       "58                Frontiers Media SA  Frontiers in Ecology and Evolution   \n",
       "59                   Springer Nature                  Scientific Reports   \n",
       "60    Hindawi Publishing Corporation           Mediators of Inflammation   \n",
       "\n",
       "         issn issn_print issn_electronic  \\\n",
       "0   2056-6387        NaN       2056-6387   \n",
       "1   2160-3308        NaN       2160-3308   \n",
       "2   2041-1723        NaN       2041-1723   \n",
       "3   1553-7374        NaN       1553-7374   \n",
       "4   1757-4749        NaN       1757-4749   \n",
       "..        ...        ...             ...   \n",
       "56  1748-7188  1748-7188             NaN   \n",
       "57  1664-1078        NaN       1664-1078   \n",
       "58  2296-701X        NaN       2296-701X   \n",
       "59  2045-2322        NaN       2045-2322   \n",
       "60  0962-9351  0962-9351       1466-1861   \n",
       "\n",
       "                                    license_ref  indexed_in_crossref  \\\n",
       "0                                           NaN                 True   \n",
       "1   http://creativecommons.org/licenses/by/3.0/                 True   \n",
       "2                                           NaN                 True   \n",
       "3   http://creativecommons.org/licenses/by/4.0/                 True   \n",
       "4                                           NaN                 True   \n",
       "..                                          ...                  ...   \n",
       "56                                          NaN                 True   \n",
       "57                                          NaN                 True   \n",
       "58                                          NaN                 True   \n",
       "59                                          NaN                 True   \n",
       "60  http://creativecommons.org/licenses/by/4.0/                 True   \n",
       "\n",
       "          pmid       pmcid  ut  url  doaj  \n",
       "0          NaN         NaN NaN  NaN  True  \n",
       "1          NaN         NaN NaN  NaN  True  \n",
       "2   26577800.0  PMC4673657 NaN  NaN  True  \n",
       "3   26544881.0  PMC4636265 NaN  NaN  True  \n",
       "4   26483849.0  PMC4610047 NaN  NaN  True  \n",
       "..         ...         ...  ..  ...   ...  \n",
       "56  25649004.0  PMC4302510 NaN  NaN  True  \n",
       "57  25762966.0  PMC4340142 NaN  NaN  True  \n",
       "58         NaN         NaN NaN  NaN  True  \n",
       "59  26757825.0  PMC4725832 NaN  NaN  True  \n",
       "60  26770019.0  PMC4681803 NaN  NaN  True  \n",
       "\n",
       "[61 rows x 17 columns]"
      ]
     },
     "execution_count": 15,
     "metadata": {},
     "output_type": "execute_result"
    }
   ],
   "source": [
    "apcs"
   ]
  },
  {
   "cell_type": "code",
   "execution_count": 16,
   "id": "127f7a25",
   "metadata": {},
   "outputs": [
    {
     "data": {
      "text/plain": [
       "(61, 17)"
      ]
     },
     "execution_count": 16,
     "metadata": {},
     "output_type": "execute_result"
    }
   ],
   "source": [
    "apcs.shape"
   ]
  },
  {
   "cell_type": "code",
   "execution_count": 17,
   "id": "fa8a55c4",
   "metadata": {},
   "outputs": [
    {
     "data": {
      "text/plain": [
       "Index(['institution', 'period', 'euro', 'doi', 'is_hybrid', 'publisher',\n",
       "       'journal_full_title', 'issn', 'issn_print', 'issn_electronic',\n",
       "       'license_ref', 'indexed_in_crossref', 'pmid', 'pmcid', 'ut', 'url',\n",
       "       'doaj'],\n",
       "      dtype='object')"
      ]
     },
     "execution_count": 17,
     "metadata": {},
     "output_type": "execute_result"
    }
   ],
   "source": [
    "apcs.columns"
   ]
  },
  {
   "cell_type": "code",
   "execution_count": 18,
   "id": "4f120ed2",
   "metadata": {},
   "outputs": [
    {
     "data": {
      "text/plain": [
       "0     2000.00\n",
       "1     1503.12\n",
       "2     2000.00\n",
       "3     2000.00\n",
       "4     1805.00\n",
       "       ...   \n",
       "56    1731.45\n",
       "57    1600.00\n",
       "58     219.84\n",
       "59    1386.35\n",
       "60    2000.00\n",
       "Name: euro, Length: 61, dtype: float64"
      ]
     },
     "execution_count": 18,
     "metadata": {},
     "output_type": "execute_result"
    }
   ],
   "source": [
    "apcs[\"euro\"]"
   ]
  },
  {
   "cell_type": "code",
   "execution_count": 20,
   "id": "70f83d67",
   "metadata": {},
   "outputs": [
    {
     "data": {
      "text/plain": [
       "2000.0"
      ]
     },
     "execution_count": 20,
     "metadata": {},
     "output_type": "execute_result"
    }
   ],
   "source": [
    "apcs[\"euro\"]. max()"
   ]
  },
  {
   "cell_type": "code",
   "execution_count": 21,
   "id": "1047668b",
   "metadata": {},
   "outputs": [
    {
     "data": {
      "text/plain": [
       "1419.6080327868851"
      ]
     },
     "execution_count": 21,
     "metadata": {},
     "output_type": "execute_result"
    }
   ],
   "source": [
    "apcs[\"euro\"]. mean()"
   ]
  },
  {
   "cell_type": "code",
   "execution_count": 22,
   "id": "4b816811",
   "metadata": {},
   "outputs": [
    {
     "data": {
      "text/plain": [
       "1410.07"
      ]
     },
     "execution_count": 22,
     "metadata": {},
     "output_type": "execute_result"
    }
   ],
   "source": [
    "apcs[\"euro\"]. median()"
   ]
  },
  {
   "cell_type": "code",
   "execution_count": 23,
   "id": "a2794520",
   "metadata": {},
   "outputs": [
    {
     "data": {
      "text/plain": [
       "count      61.000000\n",
       "mean     1419.608033\n",
       "std       456.811349\n",
       "min       219.840000\n",
       "25%      1178.420000\n",
       "50%      1410.070000\n",
       "75%      1800.000000\n",
       "max      2000.000000\n",
       "Name: euro, dtype: float64"
      ]
     },
     "execution_count": 23,
     "metadata": {},
     "output_type": "execute_result"
    }
   ],
   "source": [
    "apcs[\"euro\"]. describe()"
   ]
  },
  {
   "cell_type": "code",
   "execution_count": 24,
   "id": "9ee8ff7c",
   "metadata": {},
   "outputs": [
    {
     "data": {
      "text/plain": [
       "0      True\n",
       "1     False\n",
       "2      True\n",
       "3      True\n",
       "4     False\n",
       "      ...  \n",
       "56    False\n",
       "57    False\n",
       "58    False\n",
       "59    False\n",
       "60     True\n",
       "Name: euro, Length: 61, dtype: bool"
      ]
     },
     "execution_count": 24,
     "metadata": {},
     "output_type": "execute_result"
    }
   ],
   "source": [
    "apcs[\"euro\"] >= 2000"
   ]
  },
  {
   "cell_type": "code",
   "execution_count": 29,
   "id": "6079f273",
   "metadata": {},
   "outputs": [],
   "source": [
    "apcs_2000 = apcs[apcs[\"euro\"] >= 2000]"
   ]
  },
  {
   "cell_type": "code",
   "execution_count": 30,
   "id": "0c001b73",
   "metadata": {},
   "outputs": [
    {
     "data": {
      "text/plain": [
       "(11, 17)"
      ]
     },
     "execution_count": 30,
     "metadata": {},
     "output_type": "execute_result"
    }
   ],
   "source": [
    "apcs_2000.shape"
   ]
  },
  {
   "cell_type": "code",
   "execution_count": 32,
   "id": "3d6794de",
   "metadata": {},
   "outputs": [
    {
     "data": {
      "text/plain": [
       "<AxesSubplot:>"
      ]
     },
     "execution_count": 32,
     "metadata": {},
     "output_type": "execute_result"
    },
    {
     "data": {
      "image/png": "[encoded data removed]",
      "text/plain": [
       "<Figure size 640x480 with 1 Axes>"
      ]
     },
     "metadata": {},
     "output_type": "display_data"
    }
   ],
   "source": [
    "apcs[\"euro\"]. hist(bins=20)"
   ]
  },
  {
   "cell_type": "code",
   "execution_count": 33,
   "id": "37b6e5d2",
   "metadata": {},
   "outputs": [
    {
     "data": {
      "text/plain": [
       "<AxesSubplot:>"
      ]
     },
     "execution_count": 33,
     "metadata": {},
     "output_type": "execute_result"
    },
    {
     "data": {
      "image/png": "[encoded data removed]",
      "text/plain": [
       "<Figure size 640x480 with 1 Axes>"
      ]
     },
     "metadata": {},
     "output_type": "display_data"
    }
   ],
   "source": [
    "apcs[\"euro\"]. hist(bins=20, color=\"yellow\")"
   ]
  },
  {
   "cell_type": "code",
   "execution_count": 34,
   "id": "d27c04c0",
   "metadata": {},
   "outputs": [
    {
     "name": "stdout",
     "output_type": "stream",
     "text": [
      "Help on method hist_series in module pandas.plotting._core:\n",
      "\n",
      "hist_series(by=None, ax=None, grid: 'bool' = True, xlabelsize: 'int | None' = None, xrot: 'float | None' = None, ylabelsize: 'int | None' = None, yrot: 'float | None' = None, figsize: 'tuple[int, int] | None' = None, bins: 'int | Sequence[int]' = 10, backend: 'str | None' = None, legend: 'bool' = False, **kwargs) method of pandas.core.series.Series instance\n",
      "    Draw histogram of the input series using matplotlib.\n",
      "    \n",
      "    Parameters\n",
      "    ----------\n",
      "    by : object, optional\n",
      "        If passed, then used to form histograms for separate groups.\n",
      "    ax : matplotlib axis object\n",
      "        If not passed, uses gca().\n",
      "    grid : bool, default True\n",
      "        Whether to show axis grid lines.\n",
      "    xlabelsize : int, default None\n",
      "        If specified changes the x-axis label size.\n",
      "    xrot : float, default None\n",
      "        Rotation of x axis labels.\n",
      "    ylabelsize : int, default None\n",
      "        If specified changes the y-axis label size.\n",
      "    yrot : float, default None\n",
      "        Rotation of y axis labels.\n",
      "    figsize : tuple, default None\n",
      "        Figure size in inches by default.\n",
      "    bins : int or sequence, default 10\n",
      "        Number of histogram bins to be used. If an integer is given, bins + 1\n",
      "        bin edges are calculated and returned. If bins is a sequence, gives\n",
      "        bin edges, including left edge of first bin and right edge of last\n",
      "        bin. In this case, bins is returned unmodified.\n",
      "    backend : str, default None\n",
      "        Backend to use instead of the backend specified in the option\n",
      "        ``plotting.backend``. For instance, 'matplotlib'. Alternatively, to\n",
      "        specify the ``plotting.backend`` for the whole session, set\n",
      "        ``pd.options.plotting.backend``.\n",
      "    \n",
      "        .. versionadded:: 1.0.0\n",
      "    \n",
      "    legend : bool, default False\n",
      "        Whether to show the legend.\n",
      "    \n",
      "        .. versionadded:: 1.1.0\n",
      "    \n",
      "    **kwargs\n",
      "        To be passed to the actual plotting function.\n",
      "    \n",
      "    Returns\n",
      "    -------\n",
      "    matplotlib.AxesSubplot\n",
      "        A histogram plot.\n",
      "    \n",
      "    See Also\n",
      "    --------\n",
      "    matplotlib.axes.Axes.hist : Plot a histogram using matplotlib.\n",
      "\n"
     ]
    }
   ],
   "source": [
    "help(apcs[\"euro\"]. hist)"
   ]
  },
  {
   "cell_type": "code",
   "execution_count": 35,
   "id": "5997ea57",
   "metadata": {},
   "outputs": [
    {
     "data": {
      "text/plain": [
       "0                      Springer Nature\n",
       "1      American Physical Society (APS)\n",
       "2                      Springer Nature\n",
       "3     Public Library of Science (PLoS)\n",
       "4                      Springer Nature\n",
       "                    ...               \n",
       "56                     Springer Nature\n",
       "57                  Frontiers Media SA\n",
       "58                  Frontiers Media SA\n",
       "59                     Springer Nature\n",
       "60      Hindawi Publishing Corporation\n",
       "Name: publisher, Length: 61, dtype: object"
      ]
     },
     "execution_count": 35,
     "metadata": {},
     "output_type": "execute_result"
    }
   ],
   "source": [
    "apcs[\"publisher\"]"
   ]
  },
  {
   "cell_type": "code",
   "execution_count": 36,
   "id": "5adc86aa",
   "metadata": {},
   "outputs": [
    {
     "data": {
      "text/plain": [
       "Frontiers Media SA                                  16\n",
       "Springer Nature                                     13\n",
       "Public Library of Science (PLoS)                    13\n",
       "Copernicus GmbH                                      3\n",
       "Schweizerbart                                        3\n",
       "Hindawi Publishing Corporation                       3\n",
       "Scientific Research Publishing, Inc,                 2\n",
       "American Physical Society (APS)                      1\n",
       "PAGEPress Publications                               1\n",
       "IOP Publishing                                       1\n",
       "Elsevier BV                                          1\n",
       "Inter-Research Science Center                        1\n",
       "MDPI AG                                              1\n",
       "Cogitatio                                            1\n",
       "The Korean Society of Veterinary Science (KAMJE)     1\n",
       "Name: publisher, dtype: int64"
      ]
     },
     "execution_count": 36,
     "metadata": {},
     "output_type": "execute_result"
    }
   ],
   "source": [
    "apcs[\"publisher\"].value_counts()"
   ]
  },
  {
   "cell_type": "code",
   "execution_count": 37,
   "id": "055d3d14",
   "metadata": {},
   "outputs": [
    {
     "data": {
      "text/plain": [
       "<AxesSubplot:>"
      ]
     },
     "execution_count": 37,
     "metadata": {},
     "output_type": "execute_result"
    },
    {
     "data": {
      "image/png": "[encoded data removed]",
      "text/plain": [
       "<Figure size 640x480 with 1 Axes>"
      ]
     },
     "metadata": {},
     "output_type": "display_data"
    }
   ],
   "source": [
    "apcs[\"publisher\"].value_counts().plot.barh()"
   ]
  },
  {
   "cell_type": "code",
   "execution_count": 38,
   "id": "62b28f0c",
   "metadata": {},
   "outputs": [],
   "source": [
    "apcs_pub_and_euro = apcs[[\"publisher\",\"euro\"]]"
   ]
  },
  {
   "cell_type": "code",
   "execution_count": 39,
   "id": "ec133838",
   "metadata": {},
   "outputs": [
    {
     "data": {
      "text/html": [
       "<div>\n",
       "<style scoped>\n",
       "    .dataframe tbody tr th:only-of-type {\n",
       "        vertical-align: middle;\n",
       "    }\n",
       "\n",
       "    .dataframe tbody tr th {\n",
       "        vertical-align: top;\n",
       "    }\n",
       "\n",
       "    .dataframe thead th {\n",
       "        text-align: right;\n",
       "    }\n",
       "</style>\n",
       "<table border=\"1\" class=\"dataframe\">\n",
       "  <thead>\n",
       "    <tr style=\"text-align: right;\">\n",
       "      <th></th>\n",
       "      <th>euro</th>\n",
       "    </tr>\n",
       "    <tr>\n",
       "      <th>publisher</th>\n",
       "      <th></th>\n",
       "    </tr>\n",
       "  </thead>\n",
       "  <tbody>\n",
       "    <tr>\n",
       "      <th>American Physical Society (APS)</th>\n",
       "      <td>1503.12</td>\n",
       "    </tr>\n",
       "    <tr>\n",
       "      <th>Cogitatio</th>\n",
       "      <td>430.50</td>\n",
       "    </tr>\n",
       "    <tr>\n",
       "      <th>Copernicus GmbH</th>\n",
       "      <td>3272.50</td>\n",
       "    </tr>\n",
       "    <tr>\n",
       "      <th>Elsevier BV</th>\n",
       "      <td>1550.33</td>\n",
       "    </tr>\n",
       "    <tr>\n",
       "      <th>Frontiers Media SA</th>\n",
       "      <td>21772.15</td>\n",
       "    </tr>\n",
       "    <tr>\n",
       "      <th>Hindawi Publishing Corporation</th>\n",
       "      <td>4305.22</td>\n",
       "    </tr>\n",
       "    <tr>\n",
       "      <th>IOP Publishing</th>\n",
       "      <td>1392.30</td>\n",
       "    </tr>\n",
       "    <tr>\n",
       "      <th>Inter-Research Science Center</th>\n",
       "      <td>1785.00</td>\n",
       "    </tr>\n",
       "    <tr>\n",
       "      <th>MDPI AG</th>\n",
       "      <td>1150.00</td>\n",
       "    </tr>\n",
       "    <tr>\n",
       "      <th>PAGEPress Publications</th>\n",
       "      <td>892.50</td>\n",
       "    </tr>\n",
       "    <tr>\n",
       "      <th>Public Library of Science (PLoS)</th>\n",
       "      <td>18688.52</td>\n",
       "    </tr>\n",
       "    <tr>\n",
       "      <th>Schweizerbart</th>\n",
       "      <td>5374.00</td>\n",
       "    </tr>\n",
       "    <tr>\n",
       "      <th>Scientific Research Publishing, Inc,</th>\n",
       "      <td>1289.30</td>\n",
       "    </tr>\n",
       "    <tr>\n",
       "      <th>Springer Nature</th>\n",
       "      <td>22118.10</td>\n",
       "    </tr>\n",
       "    <tr>\n",
       "      <th>The Korean Society of Veterinary Science (KAMJE)</th>\n",
       "      <td>1072.55</td>\n",
       "    </tr>\n",
       "  </tbody>\n",
       "</table>\n",
       "</div>"
      ],
      "text/plain": [
       "                                                      euro\n",
       "publisher                                                 \n",
       "American Physical Society (APS)                    1503.12\n",
       "Cogitatio                                           430.50\n",
       "Copernicus GmbH                                    3272.50\n",
       "Elsevier BV                                        1550.33\n",
       "Frontiers Media SA                                21772.15\n",
       "Hindawi Publishing Corporation                     4305.22\n",
       "IOP Publishing                                     1392.30\n",
       "Inter-Research Science Center                      1785.00\n",
       "MDPI AG                                            1150.00\n",
       "PAGEPress Publications                              892.50\n",
       "Public Library of Science (PLoS)                  18688.52\n",
       "Schweizerbart                                      5374.00\n",
       "Scientific Research Publishing, Inc,               1289.30\n",
       "Springer Nature                                   22118.10\n",
       "The Korean Society of Veterinary Science (KAMJE)   1072.55"
      ]
     },
     "execution_count": 39,
     "metadata": {},
     "output_type": "execute_result"
    }
   ],
   "source": [
    "apcs_pub_and_euro.groupby(\"publisher\").sum()"
   ]
  },
  {
   "cell_type": "code",
   "execution_count": 40,
   "id": "19511e74",
   "metadata": {},
   "outputs": [
    {
     "data": {
      "text/html": [
       "<div>\n",
       "<style scoped>\n",
       "    .dataframe tbody tr th:only-of-type {\n",
       "        vertical-align: middle;\n",
       "    }\n",
       "\n",
       "    .dataframe tbody tr th {\n",
       "        vertical-align: top;\n",
       "    }\n",
       "\n",
       "    .dataframe thead th {\n",
       "        text-align: right;\n",
       "    }\n",
       "</style>\n",
       "<table border=\"1\" class=\"dataframe\">\n",
       "  <thead>\n",
       "    <tr style=\"text-align: right;\">\n",
       "      <th></th>\n",
       "      <th>euro</th>\n",
       "    </tr>\n",
       "    <tr>\n",
       "      <th>publisher</th>\n",
       "      <th></th>\n",
       "    </tr>\n",
       "  </thead>\n",
       "  <tbody>\n",
       "    <tr>\n",
       "      <th>American Physical Society (APS)</th>\n",
       "      <td>1503.12</td>\n",
       "    </tr>\n",
       "    <tr>\n",
       "      <th>Cogitatio</th>\n",
       "      <td>430.50</td>\n",
       "    </tr>\n",
       "    <tr>\n",
       "      <th>Copernicus GmbH</th>\n",
       "      <td>1160.25</td>\n",
       "    </tr>\n",
       "    <tr>\n",
       "      <th>Elsevier BV</th>\n",
       "      <td>1550.33</td>\n",
       "    </tr>\n",
       "    <tr>\n",
       "      <th>Frontiers Media SA</th>\n",
       "      <td>2000.00</td>\n",
       "    </tr>\n",
       "    <tr>\n",
       "      <th>Hindawi Publishing Corporation</th>\n",
       "      <td>2000.00</td>\n",
       "    </tr>\n",
       "    <tr>\n",
       "      <th>IOP Publishing</th>\n",
       "      <td>1392.30</td>\n",
       "    </tr>\n",
       "    <tr>\n",
       "      <th>Inter-Research Science Center</th>\n",
       "      <td>1785.00</td>\n",
       "    </tr>\n",
       "    <tr>\n",
       "      <th>MDPI AG</th>\n",
       "      <td>1150.00</td>\n",
       "    </tr>\n",
       "    <tr>\n",
       "      <th>PAGEPress Publications</th>\n",
       "      <td>892.50</td>\n",
       "    </tr>\n",
       "    <tr>\n",
       "      <th>Public Library of Science (PLoS)</th>\n",
       "      <td>2000.00</td>\n",
       "    </tr>\n",
       "    <tr>\n",
       "      <th>Schweizerbart</th>\n",
       "      <td>2000.00</td>\n",
       "    </tr>\n",
       "    <tr>\n",
       "      <th>Scientific Research Publishing, Inc,</th>\n",
       "      <td>853.84</td>\n",
       "    </tr>\n",
       "    <tr>\n",
       "      <th>Springer Nature</th>\n",
       "      <td>2000.00</td>\n",
       "    </tr>\n",
       "    <tr>\n",
       "      <th>The Korean Society of Veterinary Science (KAMJE)</th>\n",
       "      <td>1072.55</td>\n",
       "    </tr>\n",
       "  </tbody>\n",
       "</table>\n",
       "</div>"
      ],
      "text/plain": [
       "                                                     euro\n",
       "publisher                                                \n",
       "American Physical Society (APS)                   1503.12\n",
       "Cogitatio                                          430.50\n",
       "Copernicus GmbH                                   1160.25\n",
       "Elsevier BV                                       1550.33\n",
       "Frontiers Media SA                                2000.00\n",
       "Hindawi Publishing Corporation                    2000.00\n",
       "IOP Publishing                                    1392.30\n",
       "Inter-Research Science Center                     1785.00\n",
       "MDPI AG                                           1150.00\n",
       "PAGEPress Publications                             892.50\n",
       "Public Library of Science (PLoS)                  2000.00\n",
       "Schweizerbart                                     2000.00\n",
       "Scientific Research Publishing, Inc,               853.84\n",
       "Springer Nature                                   2000.00\n",
       "The Korean Society of Veterinary Science (KAMJE)  1072.55"
      ]
     },
     "execution_count": 40,
     "metadata": {},
     "output_type": "execute_result"
    }
   ],
   "source": [
    "apcs_pub_and_euro.groupby(\"publisher\").max()"
   ]
  },
  {
   "cell_type": "code",
   "execution_count": null,
   "id": "b95cbb1b",
   "metadata": {},
   "outputs": [],
   "source": []
  }
 ],
 "metadata": {
  "kernelspec": {
   "display_name": "Python 3 (ipykernel)",
   "language": "python",
   "name": "python3"
  },
  "language_info": {
   "codemirror_mode": {
    "name": "ipython",
    "version": 3
   },
   "file_extension": ".py",
   "mimetype": "text/x-python",
   "name": "python",
   "nbconvert_exporter": "python",
   "pygments_lexer": "ipython3",
   "version": "3.9.13"
  }
 },
 "nbformat": 4,
 "nbformat_minor": 5
}
